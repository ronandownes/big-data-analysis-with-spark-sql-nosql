{
 "cells": [
  {
   "cell_type": "markdown",
   "id": "124e3fcf-5c79-408b-8079-b126ac3c7ade",
   "metadata": {},
   "source": [
    "1. **[The Databricks Blog](https://databricks.com/blog)**\n",
    "2. **[Apache Spark Documentation](https://spark.apache.org/docs/latest/)**\n",
    "3. **[Hadoop: The Definitive Guide - Early Edition](https://hadoop.apache.org/)**\n",
    "4. **[Hortonworks Hadoop Tutorials](https://docs.cloudera.com/HDPDocuments/HDP3/HDP-3.1.0/index.html)**\n",
    "5. **[MapReduce Lecture Notes - MIT OpenCourseWare](https://ocw.mit.edu/courses/electrical-engineering-and-computer-science/6-824-distributed-computer-systems-engineering-fall-2006/lecture-notes/)**\n",
    "6. **[Google Cloud's Big Data and Machine Learning Fundamentals](https://cloud.google.com/training/big-data-and-machine-learning-fundamentals/)**\n",
    "7. **[Coursera - Big Data Specialization](https://www.coursera.org/specializations/big-data)**\n",
    "8. **[Kaggle Learn](https://www.kaggle.com/learn/)**\n",
    "9. **[AWS Big Data Blog](https://aws.amazon.com/blogs/big-data/)**\n",
    "10. **[Google Cloud Blog - Data Analytics](https://cloud.google.com/blog/products/data-analytics)**\n",
    "11. **[Microsoft Azure Data Architecture Guide](https://docs.microsoft.com/en-us/azure/architecture/data-guide/)**\n",
    "12. **[The Data Science Handbook](https://www.datasciencehandbook.org/)**\n",
    "13. **[Introduction to Data Science](https://d2l.ai/)**\n",
    "14. **[Foundations of Data Science](https://www.cs.cornell.edu/jeh/book.pdf)**\n"
   ]
  },
  {
   "cell_type": "code",
   "execution_count": 1,
   "id": "937e62d8-5dd8-4933-82a4-a86bb3cd82ca",
   "metadata": {},
   "outputs": [
    {
     "name": "stdout",
     "output_type": "stream",
     "text": [
      "The Zen of Python, by Tim Peters\n",
      "\n",
      "Beautiful is better than ugly.\n",
      "Explicit is better than implicit.\n",
      "Simple is better than complex.\n",
      "Complex is better than complicated.\n",
      "Flat is better than nested.\n",
      "Sparse is better than dense.\n",
      "Readability counts.\n",
      "Special cases aren't special enough to break the rules.\n",
      "Although practicality beats purity.\n",
      "Errors should never pass silently.\n",
      "Unless explicitly silenced.\n",
      "In the face of ambiguity, refuse the temptation to guess.\n",
      "There should be one-- and preferably only one --obvious way to do it.\n",
      "Although that way may not be obvious at first unless you're Dutch.\n",
      "Now is better than never.\n",
      "Although never is often better than *right* now.\n",
      "If the implementation is hard to explain, it's a bad idea.\n",
      "If the implementation is easy to explain, it may be a good idea.\n",
      "Namespaces are one honking great idea -- let's do more of those!\n"
     ]
    }
   ],
   "source": [
    "import this"
   ]
  },
  {
   "cell_type": "code",
   "execution_count": null,
   "id": "eefe63f5-80d4-4a56-83f5-6f703c93c189",
   "metadata": {},
   "outputs": [],
   "source": []
  }
 ],
 "metadata": {
  "kernelspec": {
   "display_name": "Python 3 (ipykernel)",
   "language": "python",
   "name": "python3"
  },
  "language_info": {
   "codemirror_mode": {
    "name": "ipython",
    "version": 3
   },
   "file_extension": ".py",
   "mimetype": "text/x-python",
   "name": "python",
   "nbconvert_exporter": "python",
   "pygments_lexer": "ipython3",
   "version": "3.12.4"
  }
 },
 "nbformat": 4,
 "nbformat_minor": 5
}
