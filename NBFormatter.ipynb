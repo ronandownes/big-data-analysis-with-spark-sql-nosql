{
 "cells": [
  {
   "cell_type": "code",
   "execution_count": 25,
   "id": "7c9cb8a6-575c-463a-a948-aaa5164fa1d3",
   "metadata": {},
   "outputs": [
    {
     "name": "stdout",
     "output_type": "stream",
     "text": [
      "Notebook has been converted to Python script and copied to clipboard.\n"
     ]
    }
   ],
   "source": [
    "import nbformat\n",
    "from nbconvert import PythonExporter\n",
    "import pyperclip\n",
    "\n",
    "# Load the current notebook\n",
    "notebook_name = 'StockSentimentTimeSeries.ipynb'\n",
    "\n",
    "with open(notebook_name, 'r', encoding='utf-8') as file:\n",
    "    notebook_content = nbformat.read(file, as_version=4)\n",
    "\n",
    "# Convert notebook to Python script\n",
    "exporter = PythonExporter()\n",
    "script, _ = exporter.from_notebook_node(notebook_content)\n",
    "\n",
    "# Copy the script to clipboard\n",
    "pyperclip.copy(script)\n",
    "\n",
    "# Save script to file as a backup (optional)\n",
    "with open('converted_notebook.py', 'w', encoding='utf-8') as script_file:\n",
    "    script_file.write(script)\n",
    "\n",
    "print(\"Notebook has been converted to Python script and copied to clipboard.\")\n"
   ]
  },
  {
   "cell_type": "code",
   "execution_count": 3,
   "id": "537a33a2-f083-4e3e-ae15-b810939cf664",
   "metadata": {},
   "outputs": [
    {
     "name": "stdout",
     "output_type": "stream",
     "text": [
      "Requirement already satisfied: pyperclip in c:\\users\\ronan\\anaconda3\\lib\\site-packages (1.9.0)\n",
      "Note: you may need to restart the kernel to use updated packages.\n"
     ]
    }
   ],
   "source": [
    "pip install pyperclip\n"
   ]
  },
  {
   "cell_type": "code",
   "execution_count": 11,
   "id": "fe4e2443-aea3-4aec-8b68-bb534139c8cb",
   "metadata": {},
   "outputs": [
    {
     "name": "stdout",
     "output_type": "stream",
     "text": [
      "Notebook has been converted to Python script and copied to clipboard.\n"
     ]
    }
   ],
   "source": [
    "import nbformat\n",
    "from nbconvert import PythonExporter\n",
    "import pyperclip\n",
    "\n",
    "# Load the current notebook\n",
    "notebook_name = 'OLD.ipynb'\n",
    "\n",
    "with open(notebook_name, 'r', encoding='utf-8') as file:\n",
    "    notebook_content = nbformat.read(file, as_version=4)\n",
    "\n",
    "# Convert notebook to Python script\n",
    "exporter = PythonExporter()\n",
    "script, _ = exporter.from_notebook_node(notebook_content)\n",
    "\n",
    "# Copy the script to clipboard\n",
    "pyperclip.copy(script)\n",
    "\n",
    "# Save script to file as a backup (optional)\n",
    "with open('converted_notebook.py', 'w', encoding='utf-8') as script_file:\n",
    "    script_file.write(script)\n",
    "\n",
    "print(\"Notebook has been converted to Python script and copied to clipboard.\")\n"
   ]
  },
  {
   "cell_type": "code",
   "execution_count": null,
   "id": "4ae4ed61-20de-4c9a-8617-714d44aab265",
   "metadata": {},
   "outputs": [],
   "source": []
  }
 ],
 "metadata": {
  "kernelspec": {
   "display_name": "Python 3 (ipykernel)",
   "language": "python",
   "name": "python3"
  },
  "language_info": {
   "codemirror_mode": {
    "name": "ipython",
    "version": 3
   },
   "file_extension": ".py",
   "mimetype": "text/x-python",
   "name": "python",
   "nbconvert_exporter": "python",
   "pygments_lexer": "ipython3",
   "version": "3.12.4"
  }
 },
 "nbformat": 4,
 "nbformat_minor": 5
}
